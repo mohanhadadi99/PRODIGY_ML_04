{
 "cells": [
  {
   "cell_type": "code",
   "execution_count": 11,
   "id": "0bc1d170",
   "metadata": {},
   "outputs": [],
   "source": [
    "import pandas as pd\n",
    "import numpy as np\n",
    "import os\n",
    "import cv2\n"
   ]
  },
  {
   "cell_type": "code",
   "execution_count": 4,
   "id": "ac5fa314",
   "metadata": {},
   "outputs": [
    {
     "data": {
      "text/plain": [
       "['00', '01', '02', '03', '04', '05', '06', '07', '08', '09']"
      ]
     },
     "execution_count": 4,
     "metadata": {},
     "output_type": "execute_result"
    }
   ],
   "source": [
    "path = r\"C:\\Users\\Owner\\Desktop\\Prodigy\\Task4\\archive (4)\\leapGestRecog\"\n",
    "dirs = os.listdir(path)\n",
    "dirs"
   ]
  },
  {
   "cell_type": "code",
   "execution_count": 9,
   "id": "7b3dd74a",
   "metadata": {},
   "outputs": [
    {
     "name": "stdout",
     "output_type": "stream",
     "text": [
      "****00****\n",
      "['01_palm', '02_l', '03_fist', '04_fist_moved', '05_thumb', '06_index', '07_ok', '08_palm_moved', '09_c', '10_down']\n",
      "****01****\n",
      "['01_palm', '02_l', '03_fist', '04_fist_moved', '05_thumb', '06_index', '07_ok', '08_palm_moved', '09_c', '10_down']\n",
      "****02****\n",
      "['01_palm', '02_l', '03_fist', '04_fist_moved', '05_thumb', '06_index', '07_ok', '08_palm_moved', '09_c', '10_down']\n",
      "****03****\n",
      "['01_palm', '02_l', '03_fist', '04_fist_moved', '05_thumb', '06_index', '07_ok', '08_palm_moved', '09_c', '10_down']\n",
      "****04****\n",
      "['01_palm', '02_l', '03_fist', '04_fist_moved', '05_thumb', '06_index', '07_ok', '08_palm_moved', '09_c', '10_down']\n",
      "****05****\n",
      "['01_palm', '02_l', '03_fist', '04_fist_moved', '05_thumb', '06_index', '07_ok', '08_palm_moved', '09_c', '10_down']\n",
      "****06****\n",
      "['01_palm', '02_l', '03_fist', '04_fist_moved', '05_thumb', '06_index', '07_ok', '08_palm_moved', '09_c', '10_down']\n",
      "****07****\n",
      "['01_palm', '02_l', '03_fist', '04_fist_moved', '05_thumb', '06_index', '07_ok', '08_palm_moved', '09_c', '10_down']\n",
      "****08****\n",
      "['01_palm', '02_l', '03_fist', '04_fist_moved', '05_thumb', '06_index', '07_ok', '08_palm_moved', '09_c', '10_down']\n",
      "****09****\n",
      "['01_palm', '02_l', '03_fist', '04_fist_moved', '05_thumb', '06_index', '07_ok', '08_palm_moved', '09_c', '10_down']\n"
     ]
    }
   ],
   "source": [
    "for i in dirs:\n",
    "    print(\"****\"+str(i)+\"****\")\n",
    "    sub_dirs = os.listdir(path+'/'+i)\n",
    "    print(sub_dirs)"
   ]
  },
  {
   "cell_type": "code",
   "execution_count": 13,
   "id": "2357f76a",
   "metadata": {},
   "outputs": [],
   "source": [
    "x = []\n",
    "y = []\n",
    "for i in dirs:\n",
    "    sub_dir = os.listdir(path+'/'+i)\n",
    "    for j in sub_dir:\n",
    "        images = os.listdir(path+'/'+i+'/'+j)\n",
    "        for k in images:\n",
    "            img = cv2.imread(path+'/'+i+'/'+j+'/'+k,0)\n",
    "            img=cv2.resize(img,(int(160),int(60)))\n",
    "            ret, imgf = cv2.threshold(img, 0, 255, cv2.THRESH_BINARY+cv2.THRESH_OTSU)\n",
    "            imgf=np.asarray(imgf,dtype=np.float64)\n",
    "            x.append(imgf)\n",
    "            y.append(int(j.split('_')[0]))\n",
    "            \n",
    "        "
   ]
  },
  {
   "cell_type": "code",
   "execution_count": 14,
   "id": "35abfae6",
   "metadata": {},
   "outputs": [
    {
     "name": "stdout",
     "output_type": "stream",
     "text": [
      "(20000, 60, 160)\n",
      "(20000, 1)\n",
      "[10] [1]\n"
     ]
    }
   ],
   "source": [
    "x=np.array(x)\n",
    "y=np.array(y)\n",
    "y = y.reshape(len(x), 1)\n",
    "print(x.shape)\n",
    "print(y.shape)\n",
    "print(max(y),min(y))"
   ]
  },
  {
   "cell_type": "code",
   "execution_count": 15,
   "id": "9edc1d22",
   "metadata": {},
   "outputs": [],
   "source": [
    "x_data = x.reshape((len(x), 60, 160, 1))\n",
    "\n",
    "x_data/=255\n",
    "x_data=list(x_data)\n",
    "for i in range(len(x_data)):\n",
    "    x_data[i]=x_data[i].flatten()"
   ]
  },
  {
   "cell_type": "code",
   "execution_count": 16,
   "id": "b1ced4f2",
   "metadata": {},
   "outputs": [
    {
     "name": "stdout",
     "output_type": "stream",
     "text": [
      "[0.25498139 0.08075452 0.06690615 0.041779  ]\n",
      "[1529.79553924  860.91952673  783.6320034   619.23884467]\n"
     ]
    }
   ],
   "source": [
    "from sklearn.decomposition import PCA\n",
    "pca = PCA(n_components=4)\n",
    "x_data=np.array(x_data)\n",
    "x_data=pca.fit_transform(x_data)\n",
    "print(pca.explained_variance_ratio_)  \n",
    "print(pca.singular_values_) "
   ]
  },
  {
   "cell_type": "code",
   "execution_count": 22,
   "id": "610bb475",
   "metadata": {},
   "outputs": [],
   "source": [
    "from sklearn.model_selection import train_test_split\n",
    "x_train,x_test,y_train,y_test = train_test_split(x_data,y,test_size = 0.2)"
   ]
  },
  {
   "cell_type": "code",
   "execution_count": 23,
   "id": "5e3ce1c6",
   "metadata": {},
   "outputs": [
    {
     "name": "stderr",
     "output_type": "stream",
     "text": [
      "C:\\Users\\Owner\\AppData\\Local\\Temp\\ipykernel_11556\\3785213616.py:3: DataConversionWarning: A column-vector y was passed when a 1d array was expected. Please change the shape of y to (n_samples,), for example using ravel().\n",
      "  clf_rft = clf_rft.fit(x_train, y_train)\n"
     ]
    }
   ],
   "source": [
    "from sklearn.ensemble import RandomForestClassifier\n",
    "clf_rft = RandomForestClassifier(n_estimators=100, max_depth=15,random_state=0)\n",
    "clf_rft = clf_rft.fit(x_train, y_train)"
   ]
  },
  {
   "cell_type": "code",
   "execution_count": 29,
   "id": "230a3a83",
   "metadata": {},
   "outputs": [],
   "source": [
    "from sklearn.metrics import accuracy_score\n",
    "y_pred_rft=clf_rft.predict(x_test)\n",
    "y_train_score_rft=clf_rft.predict(x_train)"
   ]
  },
  {
   "cell_type": "code",
   "execution_count": 31,
   "id": "3044c2ea",
   "metadata": {},
   "outputs": [
    {
     "name": "stdout",
     "output_type": "stream",
     "text": [
      "accuracy of the model is:\n",
      "Test  0.9745\n",
      "Train 0.9961875\n"
     ]
    }
   ],
   "source": [
    "print(\"accuracy of the model is:\\nTest \", accuracy_score(y_test, y_pred_rft, normalize=True, sample_weight=None))\n",
    "print('Train',accuracy_score(y_train, y_train_score_rft, normalize=True, sample_weight=None))"
   ]
  }
 ],
 "metadata": {
  "kernelspec": {
   "display_name": "Python 3 (ipykernel)",
   "language": "python",
   "name": "python3"
  },
  "language_info": {
   "codemirror_mode": {
    "name": "ipython",
    "version": 3
   },
   "file_extension": ".py",
   "mimetype": "text/x-python",
   "name": "python",
   "nbconvert_exporter": "python",
   "pygments_lexer": "ipython3",
   "version": "3.9.12"
  }
 },
 "nbformat": 4,
 "nbformat_minor": 5
}
